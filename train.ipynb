{
 "cells": [
  {
   "cell_type": "code",
   "execution_count": 3,
   "metadata": {},
   "outputs": [
    {
     "name": "stdout",
     "output_type": "stream",
     "text": [
      "zsh:1: command not found: nvidia-smi\n",
      "The autoreload extension is already loaded. To reload it, use:\n",
      "  %reload_ext autoreload\n",
      "isLocalServer is False\n",
      "/Volumes/ssd/code/FaceID_model_rebuild\n"
     ]
    }
   ],
   "source": [
    "!nvidia-smi\n",
    "\n",
    "isLocalServer = False\n",
    "sys_path_to_be_added = '/notebook/personal/ksuchoi216/FaceID-model/'\n",
    "config_path = './configs/config.json'\n",
    "\n",
    "%load_ext autoreload\n",
    "%autoreload 2\n",
    "%matplotlib inline\n",
    "\n",
    "import sys\n",
    "import os\n",
    "\n",
    "def checkLocalServer(isLocalServer, sys_path_to_be_added=None):\n",
    "    print(f'isLocalServer is {isLocalServer}')\n",
    "    if isLocalServer is True:\n",
    "        if sys_path_to_be_added not in sys.path:\n",
    "            sys.path.insert(0, sys_path_to_be_added)\n",
    "            os.chdir(sys_path_to_be_added)\n",
    "\n",
    "        # print(\"System path as follows:\")\n",
    "        # for path in sys.path:\n",
    "        #     print(f\"{path}\")\n",
    "\n",
    "checkLocalServer(isLocalServer, sys_path_to_be_added)\n",
    "\n",
    "from utils import Config_Manager\n",
    "cfgm = Config_Manager(config_path)\n",
    "cfg = cfgm.get_cfg()\n",
    "!pwd"
   ]
  },
  {
   "cell_type": "code",
   "execution_count": 4,
   "metadata": {},
   "outputs": [],
   "source": [
    "from model import build_model\n",
    "model = build_model(cfg[\"model\"])"
   ]
  },
  {
   "cell_type": "code",
   "execution_count": 5,
   "metadata": {},
   "outputs": [
    {
     "data": {
      "text/plain": [
       "FaceRecognizer(\n",
       "  (fc1): Linear(in_features=512, out_features=4, bias=True)\n",
       ")"
      ]
     },
     "execution_count": 5,
     "metadata": {},
     "output_type": "execute_result"
    }
   ],
   "source": []
  }
 ],
 "metadata": {
  "kernelspec": {
   "display_name": "Python 3.8.8 ('base')",
   "language": "python",
   "name": "python3"
  },
  "language_info": {
   "codemirror_mode": {
    "name": "ipython",
    "version": 3
   },
   "file_extension": ".py",
   "mimetype": "text/x-python",
   "name": "python",
   "nbconvert_exporter": "python",
   "pygments_lexer": "ipython3",
   "version": "3.8.8"
  },
  "orig_nbformat": 4,
  "vscode": {
   "interpreter": {
    "hash": "45d80257ccf4ae77bb116447a323b4ded5c7d4f4eb3ea993cf039511269910c8"
   }
  }
 },
 "nbformat": 4,
 "nbformat_minor": 2
}
