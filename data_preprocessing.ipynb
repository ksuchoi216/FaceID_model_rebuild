{
 "cells": [
  {
   "cell_type": "markdown",
   "metadata": {},
   "source": [
    "Setting up system path and loading config file"
   ]
  },
  {
   "cell_type": "code",
   "execution_count": 1,
   "metadata": {},
   "outputs": [
    {
     "name": "stdout",
     "output_type": "stream",
     "text": [
      "isLocalServer is False\n",
      "/Volumes/ssd/code/FaceID-model\n"
     ]
    }
   ],
   "source": [
    "isLocalServer = False\n",
    "sys_path_to_be_added = '/notebook/personal/ksuchoi216/FaceID-model/'\n",
    "config_path = './configs/config.json'\n",
    "\n",
    "%load_ext autoreload\n",
    "%autoreload 2\n",
    "%matplotlib inline\n",
    "\n",
    "import sys\n",
    "import os\n",
    "\n",
    "def checkLocalServer(isLocalServer, sys_path_to_be_added=None):\n",
    "    print(f'isLocalServer is {isLocalServer}')\n",
    "    if isLocalServer is True:\n",
    "        if sys_path_to_be_added not in sys.path:\n",
    "            sys.path.insert(0, sys_path_to_be_added)\n",
    "            os.chdir(sys_path_to_be_added)\n",
    "\n",
    "        # print(\"System path as follows:\")\n",
    "        # for path in sys.path:\n",
    "        #     print(f\"{path}\")\n",
    "\n",
    "checkLocalServer(isLocalServer, sys_path_to_be_added)\n",
    "\n",
    "from utils import Config_Manager\n",
    "cfgm = Config_Manager(config_path)\n",
    "cfg = cfgm.get_cfg()\n",
    "!pwd"
   ]
  },
  {
   "cell_type": "code",
   "execution_count": 2,
   "metadata": {},
   "outputs": [
    {
     "name": "stdout",
     "output_type": "stream",
     "text": [
      "device is cpu\n",
      "image size: 240\n",
      "Loading faces from ./source/faces_from_photos\n",
      "0 jhoh\n",
      "1 jhongyoo\n",
      "2 jhyoo\n",
      "3 kschoi\n",
      "data length: 399\n"
     ]
    }
   ],
   "source": [
    "from data_preprocessing import DatasetBasedOnFolders, DatasetFromNumpy\n",
    "from data_preprocessing import buildDataLoaders, saveDataloaders\n",
    "cfg[\"DatasetBasedOnFolders\"][\"folder_name_for_source\"] = cfg[\"folder_name_for_source\"]\n",
    "datasetBasedOnFolders = DatasetBasedOnFolders(cfg[\"DatasetBasedOnFolders\"])"
   ]
  },
  {
   "cell_type": "code",
   "execution_count": 3,
   "metadata": {},
   "outputs": [
    {
     "name": "stdout",
     "output_type": "stream",
     "text": [
      "(399, 1, 512)\n",
      "(399,)\n",
      "(399, 1, 512)\n",
      "(399,)\n"
     ]
    }
   ],
   "source": [
    "emb, idx = datasetBasedOnFolders.loadNumpy(return_dataset=True)\n",
    "path_numpy_emb, path_numpy_label = datasetBasedOnFolders.get_path_to_load_numpy()\n",
    "\n",
    "dataset = DatasetFromNumpy(path_numpy_emb, path_numpy_label)"
   ]
  },
  {
   "cell_type": "code",
   "execution_count": 4,
   "metadata": {},
   "outputs": [
    {
     "name": "stdout",
     "output_type": "stream",
     "text": [
      "dataset length: (399) = tr (279) + val (79) + tt (41)\n"
     ]
    }
   ],
   "source": [
    "dataloaders = buildDataLoaders(dataset, 4, 0.7, 0.2)"
   ]
  },
  {
   "cell_type": "code",
   "execution_count": 8,
   "metadata": {},
   "outputs": [
    {
     "name": "stdout",
     "output_type": "stream",
     "text": [
      "saved in ./data/dataloader_train.pt\n",
      "saved in ./data/dataloader_val.pt\n",
      "saved in ./data/dataloader_test.pt\n"
     ]
    }
   ],
   "source": [
    "saveDataloaders(source_folder='data', dataloaders=dataloaders)"
   ]
  }
 ],
 "metadata": {
  "kernelspec": {
   "display_name": "Python 3.8.8 ('base')",
   "language": "python",
   "name": "python3"
  },
  "language_info": {
   "codemirror_mode": {
    "name": "ipython",
    "version": 3
   },
   "file_extension": ".py",
   "mimetype": "text/x-python",
   "name": "python",
   "nbconvert_exporter": "python",
   "pygments_lexer": "ipython3",
   "version": "3.8.8"
  },
  "orig_nbformat": 4,
  "vscode": {
   "interpreter": {
    "hash": "45d80257ccf4ae77bb116447a323b4ded5c7d4f4eb3ea993cf039511269910c8"
   }
  }
 },
 "nbformat": 4,
 "nbformat_minor": 2
}
