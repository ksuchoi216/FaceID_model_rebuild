{
 "cells": [
  {
   "cell_type": "code",
   "execution_count": 6,
   "metadata": {},
   "outputs": [],
   "source": [
    "isOpenset = False\n",
    "isUnloadable = False\n",
    "isDataloader = True"
   ]
  },
  {
   "cell_type": "code",
   "execution_count": 7,
   "metadata": {},
   "outputs": [
    {
     "name": "stdout",
     "output_type": "stream",
     "text": [
      "The autoreload extension is already loaded. To reload it, use:\n",
      "  %reload_ext autoreload\n",
      "isLocalServer is True\n",
      "/notebook/personal/ksuchoi216/FaceID_model_rebuild\n",
      "Fri Oct  7 14:15:35 2022       \n",
      "+-----------------------------------------------------------------------------+\n",
      "| NVIDIA-SMI 470.129.06   Driver Version: 470.129.06   CUDA Version: 11.4     |\n",
      "|-------------------------------+----------------------+----------------------+\n",
      "| GPU  Name        Persistence-M| Bus-Id        Disp.A | Volatile Uncorr. ECC |\n",
      "| Fan  Temp  Perf  Pwr:Usage/Cap|         Memory-Usage | GPU-Util  Compute M. |\n",
      "|                               |                      |               MIG M. |\n",
      "|===============================+======================+======================|\n",
      "|   0  Tesla P100-PCIE...  Off  | 00000000:04:00.0 Off |                    0 |\n",
      "| N/A   33C    P0    33W / 250W |    847MiB / 16280MiB |      0%      Default |\n",
      "|                               |                      |                  N/A |\n",
      "+-------------------------------+----------------------+----------------------+\n",
      "|   1  Tesla P100-PCIE...  Off  | 00000000:06:00.0 Off |                    0 |\n",
      "| N/A   37C    P0    28W / 250W |      2MiB / 16280MiB |      0%      Default |\n",
      "|                               |                      |                  N/A |\n",
      "+-------------------------------+----------------------+----------------------+\n",
      "|   2  Tesla P100-PCIE...  Off  | 00000000:07:00.0 Off |                    0 |\n",
      "| N/A   32C    P0    26W / 250W |      2MiB / 16280MiB |      0%      Default |\n",
      "|                               |                      |                  N/A |\n",
      "+-------------------------------+----------------------+----------------------+\n",
      "|   3  Tesla P100-PCIE...  Off  | 00000000:08:00.0 Off |                    0 |\n",
      "| N/A   34C    P0    26W / 250W |      2MiB / 16280MiB |      0%      Default |\n",
      "|                               |                      |                  N/A |\n",
      "+-------------------------------+----------------------+----------------------+\n",
      "|   4  Tesla P100-PCIE...  Off  | 00000000:0C:00.0 Off |                    0 |\n",
      "| N/A   35C    P0    26W / 250W |      2MiB / 16280MiB |      0%      Default |\n",
      "|                               |                      |                  N/A |\n",
      "+-------------------------------+----------------------+----------------------+\n",
      "|   5  Tesla P100-PCIE...  Off  | 00000000:0D:00.0 Off |                    0 |\n",
      "| N/A   34C    P0    27W / 250W |      2MiB / 16280MiB |      0%      Default |\n",
      "|                               |                      |                  N/A |\n",
      "+-------------------------------+----------------------+----------------------+\n",
      "|   6  Tesla P100-PCIE...  Off  | 00000000:0E:00.0 Off |                    0 |\n",
      "| N/A   36C    P0    27W / 250W |      2MiB / 16280MiB |      0%      Default |\n",
      "|                               |                      |                  N/A |\n",
      "+-------------------------------+----------------------+----------------------+\n",
      "|   7  Tesla P100-PCIE...  Off  | 00000000:0F:00.0 Off |                    0 |\n",
      "| N/A   35C    P0    27W / 250W |      2MiB / 16280MiB |      0%      Default |\n",
      "|                               |                      |                  N/A |\n",
      "+-------------------------------+----------------------+----------------------+\n",
      "                                                                               \n",
      "+-----------------------------------------------------------------------------+\n",
      "| Processes:                                                                  |\n",
      "|  GPU   GI   CI        PID   Type   Process name                  GPU Memory |\n",
      "|        ID   ID                                                   Usage      |\n",
      "|=============================================================================|\n",
      "+-----------------------------------------------------------------------------+\n"
     ]
    }
   ],
   "source": [
    "isLocalServer = True\n",
    "sys_path_to_be_added = '/notebook/personal/ksuchoi216/FaceID_model_rebuild/'\n",
    "config_path = './configs/config.json'\n",
    "\n",
    "%load_ext autoreload\n",
    "%autoreload 2\n",
    "%matplotlib inline\n",
    "\n",
    "import sys\n",
    "import os\n",
    "\n",
    "def checkLocalServer(isLocalServer, sys_path_to_be_added=None):\n",
    "    print(f'isLocalServer is {isLocalServer}')\n",
    "    if isLocalServer is True:\n",
    "        if sys_path_to_be_added not in sys.path:\n",
    "            sys.path.insert(0, sys_path_to_be_added)\n",
    "            os.chdir(sys_path_to_be_added)\n",
    "\n",
    "checkLocalServer(isLocalServer, sys_path_to_be_added)\n",
    "\n",
    "from utils import Config_Manager\n",
    "cfgm = Config_Manager(config_path)\n",
    "cfg = cfgm.get_cfg()\n",
    "!pwd\n",
    "!nvidia-smi"
   ]
  },
  {
   "cell_type": "code",
   "execution_count": 8,
   "metadata": {},
   "outputs": [
    {
     "name": "stdout",
     "output_type": "stream",
     "text": [
      "device is cuda:0\n",
      "image size: 240\n",
      "Loading faces from ./source/faces_from_photos\n",
      "0 jhoh\n",
      "1 jhongyoo\n",
      "2 jhyoo\n",
      "3 kschoi\n",
      "data length: 399\n",
      "path_emb: ./data/extracted_np/face_data_emb.npy\n",
      "path_lb: ./data/extracted_np/face_data_lb.npy\n",
      "loaded emb:(399, 512) lb:(399,)\n",
      "creat a dataset...\n",
      "dataset initial emb:(399, 512) lb:(399,)\n"
     ]
    }
   ],
   "source": [
    "from data_preprocessing import FolderDataset, DatasetFromNumpy\n",
    "from data_preprocessing import buildDataLoaders, saveDataloaders\n",
    "cfg[\"FolderDataset\"][\"folder_for_source\"] = cfg[\"folder_for_source\"]\n",
    "folderDataset = FolderDataset(cfg[\"FolderDataset\"])\n",
    "folderDataset.setFilePath(\n",
    "    './data',\n",
    "    'extracted_np',\n",
    "    'face_data',\n",
    "    '.npy'\n",
    ")\n",
    "\n",
    "if isUnloadable:\n",
    "    np_emb, np_lb = folderDataset.createNumpyData()\n",
    "    folderDataset.saveToNumpy(np_emb, np_lb)\n",
    "np_emb, np_lb = folderDataset.loadFromNumpy()\n",
    "\n",
    "if isOpenset:\n",
    "    kkc = [0, 1, 2]\n",
    "    uuc = [3]\n",
    "    folderDataset.createOpensetDataset(np_emb, np_lb, kkc, uuc)\n",
    "else:\n",
    "    print(\"creat a dataset...\")\n",
    "    dataset = DatasetFromNumpy(np_emb, np_lb)\n"
   ]
  },
  {
   "cell_type": "code",
   "execution_count": 9,
   "metadata": {},
   "outputs": [
    {
     "name": "stdout",
     "output_type": "stream",
     "text": [
      "dataset length: (399) = tr (279) + val (79) + tt (41)\n",
      "saved in ./data/dataloaders_org/dataloader_train.pt\n",
      "saved in ./data/dataloaders_org/dataloader_val.pt\n",
      "saved in ./data/dataloaders_org/dataloader_test.pt\n"
     ]
    }
   ],
   "source": [
    "if isDataloader:\n",
    "    dataloaders = buildDataLoaders(dataset, 4, 0.7, 0.2)\n",
    "    saveDataloaders(source_folder='data',\n",
    "                    save_folder='dataloaders_org',\n",
    "                    dataloaders=dataloaders)"
   ]
  }
 ],
 "metadata": {
  "kernelspec": {
   "display_name": "python39",
   "language": "python",
   "name": "python39"
  },
  "language_info": {
   "codemirror_mode": {
    "name": "ipython",
    "version": 3
   },
   "file_extension": ".py",
   "mimetype": "text/x-python",
   "name": "python",
   "nbconvert_exporter": "python",
   "pygments_lexer": "ipython3",
   "version": "3.9.1"
  },
  "orig_nbformat": 4,
  "vscode": {
   "interpreter": {
    "hash": "31f2aee4e71d21fbe5cf8b01ff0e069b9275f58929596ceb00d14d90e3e16cd6"
   }
  }
 },
 "nbformat": 4,
 "nbformat_minor": 2
}
