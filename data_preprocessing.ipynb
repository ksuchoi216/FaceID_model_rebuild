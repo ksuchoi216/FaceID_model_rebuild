{
 "cells": [
  {
   "cell_type": "code",
   "execution_count": 13,
   "metadata": {},
   "outputs": [
    {
     "name": "stdout",
     "output_type": "stream",
     "text": [
      "The autoreload extension is already loaded. To reload it, use:\n",
      "  %reload_ext autoreload\n",
      "isLocalServer is True\n",
      "/notebook/personal/ksuchoi216/FaceID_model_rebuild\n",
      "Tue Oct 18 11:12:10 2022       \n",
      "+-----------------------------------------------------------------------------+\n",
      "| NVIDIA-SMI 470.129.06   Driver Version: 470.129.06   CUDA Version: 11.4     |\n",
      "|-------------------------------+----------------------+----------------------+\n",
      "| GPU  Name        Persistence-M| Bus-Id        Disp.A | Volatile Uncorr. ECC |\n",
      "| Fan  Temp  Perf  Pwr:Usage/Cap|         Memory-Usage | GPU-Util  Compute M. |\n",
      "|                               |                      |               MIG M. |\n",
      "|===============================+======================+======================|\n",
      "|   0  Tesla P100-PCIE...  Off  | 00000000:04:00.0 Off |                    0 |\n",
      "| N/A   33C    P0    33W / 250W |   3237MiB / 16280MiB |      0%      Default |\n",
      "|                               |                      |                  N/A |\n",
      "+-------------------------------+----------------------+----------------------+\n",
      "|   1  Tesla P100-PCIE...  Off  | 00000000:06:00.0 Off |                    0 |\n",
      "| N/A   36C    P0    28W / 250W |      2MiB / 16280MiB |      0%      Default |\n",
      "|                               |                      |                  N/A |\n",
      "+-------------------------------+----------------------+----------------------+\n",
      "|   2  Tesla P100-PCIE...  Off  | 00000000:07:00.0 Off |                    0 |\n",
      "| N/A   32C    P0    26W / 250W |      2MiB / 16280MiB |      0%      Default |\n",
      "|                               |                      |                  N/A |\n",
      "+-------------------------------+----------------------+----------------------+\n",
      "|   3  Tesla P100-PCIE...  Off  | 00000000:08:00.0 Off |                    0 |\n",
      "| N/A   33C    P0    26W / 250W |      2MiB / 16280MiB |      0%      Default |\n",
      "|                               |                      |                  N/A |\n",
      "+-------------------------------+----------------------+----------------------+\n",
      "|   4  Tesla P100-PCIE...  Off  | 00000000:0C:00.0 Off |                    0 |\n",
      "| N/A   35C    P0    26W / 250W |      2MiB / 16280MiB |      0%      Default |\n",
      "|                               |                      |                  N/A |\n",
      "+-------------------------------+----------------------+----------------------+\n",
      "|   5  Tesla P100-PCIE...  Off  | 00000000:0D:00.0 Off |                    0 |\n",
      "| N/A   33C    P0    27W / 250W |      2MiB / 16280MiB |      0%      Default |\n",
      "|                               |                      |                  N/A |\n",
      "+-------------------------------+----------------------+----------------------+\n",
      "|   6  Tesla P100-PCIE...  Off  | 00000000:0E:00.0 Off |                    0 |\n",
      "| N/A   35C    P0    27W / 250W |      2MiB / 16280MiB |      0%      Default |\n",
      "|                               |                      |                  N/A |\n",
      "+-------------------------------+----------------------+----------------------+\n",
      "|   7  Tesla P100-PCIE...  Off  | 00000000:0F:00.0 Off |                    0 |\n",
      "| N/A   35C    P0    27W / 250W |      2MiB / 16280MiB |      0%      Default |\n",
      "|                               |                      |                  N/A |\n",
      "+-------------------------------+----------------------+----------------------+\n",
      "                                                                               \n",
      "+-----------------------------------------------------------------------------+\n",
      "| Processes:                                                                  |\n",
      "|  GPU   GI   CI        PID   Type   Process name                  GPU Memory |\n",
      "|        ID   ID                                                   Usage      |\n",
      "|=============================================================================|\n",
      "+-----------------------------------------------------------------------------+\n"
     ]
    }
   ],
   "source": [
    "isOpenset = False\n",
    "existSavedFile = True\n",
    "\n",
    "isLocalServer = True\n",
    "sys_path_to_be_added = '/notebook/personal/ksuchoi216/FaceID_model_rebuild/'\n",
    "config_path = './configs/config.json'\n",
    "\n",
    "%load_ext autoreload\n",
    "%autoreload 2\n",
    "%matplotlib inline\n",
    "\n",
    "import sys\n",
    "import os\n",
    "\n",
    "def checkLocalServer(isLocalServer, sys_path_to_be_added=None):\n",
    "    print(f'isLocalServer is {isLocalServer}')\n",
    "    if isLocalServer is True:\n",
    "        if sys_path_to_be_added not in sys.path:\n",
    "            sys.path.insert(0, sys_path_to_be_added)\n",
    "            os.chdir(sys_path_to_be_added)\n",
    "\n",
    "checkLocalServer(isLocalServer, sys_path_to_be_added)\n",
    "\n",
    "from utils import Config_Manager\n",
    "cfgm = Config_Manager(config_path)\n",
    "cfg = cfgm.get_cfg()\n",
    "!pwd\n",
    "!nvidia-smi"
   ]
  },
  {
   "cell_type": "code",
   "execution_count": 14,
   "metadata": {},
   "outputs": [
    {
     "name": "stdout",
     "output_type": "stream",
     "text": [
      "device is cuda:0\n",
      "image size: 140\n",
      "Loading faces from ./raw/photos_from_video\n",
      "0 jhoh\n",
      "1 jhongyoo\n",
      "2 jhyoo\n",
      "3 kschoi\n",
      "path_emb: ./data/extracted_np_org/face_emb.npy\n",
      "path_lb: ./data/extracted_np_org/face_lb.npy\n",
      "loaded emb:(1157, 512) lb:(1157,)\n",
      "creating a dataset from numpy datasets\n"
     ]
    }
   ],
   "source": [
    "from data_preprocessing import FolderDataset, DatasetFromNumpy\n",
    "from data_preprocessing import buildDataLoaders, saveDataloaders\n",
    "\n",
    "cfg[\"FolderDataset\"][\"folder_for_raw\"] = cfg[\"folder_for_raw\"]\n",
    "folderDataset = FolderDataset(cfg[\"FolderDataset\"])\n",
    "\n",
    "folderDataset.setFilePath(\n",
    "    './data',\n",
    "    'extracted_np_org',\n",
    "    'face',\n",
    "    '.npy'\n",
    ")\n",
    "\n",
    "if not existSavedFile:\n",
    "    print(\"loading numpy datasets...\")\n",
    "    emb, lb = folderDataset.createNumpyData()\n",
    "    folderDataset.saveToNumpy(emb, lb)\n",
    "emb, lb = folderDataset.loadFromNumpy()\n",
    "print(\"creating a dataset from numpy datasets\")\n",
    "\n"
   ]
  },
  {
   "cell_type": "code",
   "execution_count": 15,
   "metadata": {},
   "outputs": [
    {
     "name": "stdout",
     "output_type": "stream",
     "text": [
      "dataset initial emb:(1157, 512) lb:(1157,)\n",
      "dataset length: (1157) = tr (809) + val (231) + tt (117)\n",
      "saved in ./data/dataloader_org/dataloader_train.pt\n",
      "saved in ./data/dataloader_org/dataloader_val.pt\n",
      "saved in ./data/dataloader_org/dataloader_test.pt\n"
     ]
    }
   ],
   "source": [
    "from data_preprocessing import filterNumpy, splitNumpy, putTogetherData\n",
    "from data_preprocessing import buildMultipleDataLoaders\n",
    "\n",
    "if isOpenset:\n",
    "    kkc = [0, 1, 2]\n",
    "    kuc = [3]\n",
    "    \n",
    "    emb_kkc, lb_kkc = filterNumpy(\n",
    "        data = emb,\n",
    "        labels = lb,\n",
    "        selected_labels = kkc\n",
    "    )\n",
    "    \n",
    "    emb_kuc, lb_kuc = filterNumpy(\n",
    "        data = emb,\n",
    "        labels = lb,\n",
    "        selected_labels = kuc\n",
    "    )\n",
    "    \n",
    "    kkc_ratios = {'train': 0.7, 'val': 0.2, 'test': 0.1}\n",
    "    data_kkc = splitNumpy(emb_kkc, lb_kkc, ratios=kkc_ratios)\n",
    "    \n",
    "    kuc_ratios = {'val': 0.7, 'test': 0.3}\n",
    "    data_kuc = splitNumpy(emb_kuc, lb_kuc, ratios=kuc_ratios)\n",
    "    \n",
    "    total_data = putTogetherData(data_kkc, data_kuc)\n",
    "    \n",
    "    dataloaders = buildMultipleDataLoaders(total_data, batch_size=4)\n",
    "    saveDataloaders(source_folder='data',\n",
    "                    save_folder='dataloader_osr',\n",
    "                    dataloaders=dataloaders)\n",
    "    \n",
    "else:\n",
    "    dataloaders = buildDataLoaders(emb, lb,\n",
    "                                   batch_size=4,\n",
    "                                   ratio_train=0.7,\n",
    "                                   ratio_val=0.2)\n",
    "    saveDataloaders(source_folder='data',\n",
    "                    save_folder='dataloader_org',\n",
    "                    dataloaders=dataloaders)"
   ]
  },
  {
   "cell_type": "code",
   "execution_count": null,
   "metadata": {},
   "outputs": [],
   "source": []
  }
 ],
 "metadata": {
  "kernelspec": {
   "display_name": "python39",
   "language": "python",
   "name": "python39"
  },
  "language_info": {
   "codemirror_mode": {
    "name": "ipython",
    "version": 3
   },
   "file_extension": ".py",
   "mimetype": "text/x-python",
   "name": "python",
   "nbconvert_exporter": "python",
   "pygments_lexer": "ipython3",
   "version": "3.9.1"
  },
  "orig_nbformat": 4,
  "vscode": {
   "interpreter": {
    "hash": "31f2aee4e71d21fbe5cf8b01ff0e069b9275f58929596ceb00d14d90e3e16cd6"
   }
  }
 },
 "nbformat": 4,
 "nbformat_minor": 2
}
