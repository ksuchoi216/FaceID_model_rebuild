{
 "cells": [
  {
   "cell_type": "markdown",
   "metadata": {},
   "source": [
    "# Transfer Learning"
   ]
  },
  {
   "cell_type": "code",
   "execution_count": 11,
   "metadata": {},
   "outputs": [
    {
     "name": "stdout",
     "output_type": "stream",
     "text": [
      "Tue Aug 30 11:42:02 2022       \n",
      "+-----------------------------------------------------------------------------+\n",
      "| NVIDIA-SMI 470.129.06   Driver Version: 470.129.06   CUDA Version: 11.4     |\n",
      "|-------------------------------+----------------------+----------------------+\n",
      "| GPU  Name        Persistence-M| Bus-Id        Disp.A | Volatile Uncorr. ECC |\n",
      "| Fan  Temp  Perf  Pwr:Usage/Cap|         Memory-Usage | GPU-Util  Compute M. |\n",
      "|                               |                      |               MIG M. |\n",
      "|===============================+======================+======================|\n",
      "|   0  Tesla P100-PCIE...  Off  | 00000000:04:00.0 Off |                    0 |\n",
      "| N/A   39C    P0    34W / 250W |   4948MiB / 16280MiB |      0%      Default |\n",
      "|                               |                      |                  N/A |\n",
      "+-------------------------------+----------------------+----------------------+\n",
      "|   1  Tesla P100-PCIE...  Off  | 00000000:06:00.0 Off |                    0 |\n",
      "| N/A   36C    P0    28W / 250W |      2MiB / 16280MiB |      0%      Default |\n",
      "|                               |                      |                  N/A |\n",
      "+-------------------------------+----------------------+----------------------+\n",
      "|   2  Tesla P100-PCIE...  Off  | 00000000:07:00.0 Off |                    0 |\n",
      "| N/A   31C    P0    26W / 250W |      2MiB / 16280MiB |      0%      Default |\n",
      "|                               |                      |                  N/A |\n",
      "+-------------------------------+----------------------+----------------------+\n",
      "|   3  Tesla P100-PCIE...  Off  | 00000000:08:00.0 Off |                    0 |\n",
      "| N/A   33C    P0    26W / 250W |      2MiB / 16280MiB |      0%      Default |\n",
      "|                               |                      |                  N/A |\n",
      "+-------------------------------+----------------------+----------------------+\n",
      "|   4  Tesla P100-PCIE...  Off  | 00000000:0C:00.0 Off |                    0 |\n",
      "| N/A   35C    P0    26W / 250W |      2MiB / 16280MiB |      0%      Default |\n",
      "|                               |                      |                  N/A |\n",
      "+-------------------------------+----------------------+----------------------+\n",
      "|   5  Tesla P100-PCIE...  Off  | 00000000:0D:00.0 Off |                    0 |\n",
      "| N/A   34C    P0    27W / 250W |      2MiB / 16280MiB |      0%      Default |\n",
      "|                               |                      |                  N/A |\n",
      "+-------------------------------+----------------------+----------------------+\n",
      "|   6  Tesla P100-PCIE...  Off  | 00000000:0E:00.0 Off |                    0 |\n",
      "| N/A   36C    P0    27W / 250W |      2MiB / 16280MiB |      0%      Default |\n",
      "|                               |                      |                  N/A |\n",
      "+-------------------------------+----------------------+----------------------+\n",
      "|   7  Tesla P100-PCIE...  Off  | 00000000:0F:00.0 Off |                    0 |\n",
      "| N/A   35C    P0    27W / 250W |      2MiB / 16280MiB |      0%      Default |\n",
      "|                               |                      |                  N/A |\n",
      "+-------------------------------+----------------------+----------------------+\n",
      "                                                                               \n",
      "+-----------------------------------------------------------------------------+\n",
      "| Processes:                                                                  |\n",
      "|  GPU   GI   CI        PID   Type   Process name                  GPU Memory |\n",
      "|        ID   ID                                                   Usage      |\n",
      "|=============================================================================|\n",
      "+-----------------------------------------------------------------------------+\n",
      "/notebook/personal/ksuchoi216/face-id-model\n"
     ]
    }
   ],
   "source": [
    "!nvidia-smi\n",
    "!pwd\n",
    "isLocalServer = True"
   ]
  },
  {
   "cell_type": "code",
   "execution_count": 12,
   "metadata": {},
   "outputs": [
    {
     "name": "stdout",
     "output_type": "stream",
     "text": [
      "The autoreload extension is already loaded. To reload it, use:\n",
      "  %reload_ext autoreload\n",
      "sys.path: ['/notebook/personal/ksuchoi216/face-id-model/', '/notebook', '/root/.pyenv/versions/3.9.1/lib/python39.zip', '/root/.pyenv/versions/3.9.1/lib/python3.9', '/root/.pyenv/versions/3.9.1/lib/python3.9/lib-dynload', '', '/root/.pyenv/versions/python39/lib/python3.9/site-packages']\n"
     ]
    }
   ],
   "source": [
    "%load_ext autoreload\n",
    "%autoreload 2\n",
    "%matplotlib inline\n",
    "import os, sys\n",
    "import matplotlib.pyplot as plt\n",
    "\n",
    "import torch\n",
    "import torch.nn as nn\n",
    "from torch.nn import functional as F\n",
    "import torch.optim as optim\n",
    "from torch.optim import lr_scheduler\n",
    "import torch.backends.cudnn as cudnn\n",
    "\n",
    "cudnn.benchmark = True\n",
    "plt.ion()\n",
    "\n",
    "def path_add_to_sys_path(path_to_be_add):\n",
    "  # path_to_be_add = '/notebook/personal/ksuchoi216/face-id-model/'\n",
    "  if not path_to_be_add in sys.path:\n",
    "    sys.path.insert(0, path_to_be_add)\n",
    "    os.chdir(path_to_be_add)\n",
    "\n",
    "  print(f'sys.path: {sys.path}')\n",
    "\n",
    "if isLocalServer is True:\n",
    "  path_add_to_sys_path('/notebook/personal/ksuchoi216/face-id-model/')\n",
    "  \n",
    "from utils import load_config\n",
    "cfg = load_config('config_model.json')"
   ]
  },
  {
   "cell_type": "code",
   "execution_count": 13,
   "metadata": {},
   "outputs": [
    {
     "name": "stdout",
     "output_type": "stream",
     "text": [
      "250\n",
      " data \n",
      "0 jhoh\n",
      "1 jhongyoo\n",
      "2 jhyoo\n",
      "3 kschoi\n",
      "batch_size: 4 \n",
      "\n",
      "dataset length: (1079) = tr (863) + val (107) + tt (109)\n",
      "image dimension: (3, 250, 250)\n"
     ]
    },
    {
     "data": {
      "image/png": "[encoded data removed]",
      "text/plain": [
       "<Figure size 432x288 with 1 Axes>"
      ]
     },
     "metadata": {
      "needs_background": "light"
     },
     "output_type": "display_data"
    },
    {
     "name": "stdout",
     "output_type": "stream",
     "text": [
      "input shape: torch.Size([3, 250, 250]) / label shape: torch.Size([]) / label: 2\n",
      "input shape: torch.Size([3, 250, 250]) / label shape: torch.Size([]) / label: 1\n",
      "input shape: torch.Size([3, 250, 250]) / label shape: torch.Size([]) / label: 2\n",
      "input shape: torch.Size([3, 250, 250]) / label shape: torch.Size([]) / label: 0\n"
     ]
    }
   ],
   "source": [
    "from datasets import Folder_Dataset\n",
    "from utils import imshow_dataloader\n",
    "\n",
    "folder_Dataset = Folder_Dataset(cfg['data'])\n",
    "dataloaders, dataset_sizes, idx_to_class = folder_Dataset.createDataLoaders()\n",
    "\n",
    "# show a example picture \n",
    "image_size = imshow_dataloader(dataloaders[\"train\"])\n",
    "\n",
    "phase=\"train\"\n",
    "for i, (inputs, labels) in enumerate(dataloaders[phase]):\n",
    "  if i > 3:\n",
    "    break\n",
    "  \n",
    "  print(f'input shape: {inputs[0].shape} / label shape: {labels[0].shape} / label: {labels[0]}')\n",
    "  "
   ]
  },
  {
   "cell_type": "code",
   "execution_count": 14,
   "metadata": {},
   "outputs": [
    {
     "name": "stdout",
     "output_type": "stream",
     "text": [
      "device is cuda:0\n"
     ]
    },
    {
     "ename": "KeyError",
     "evalue": "'classifier'",
     "output_type": "error",
     "traceback": [
      "\u001b[0;31m---------------------------------------------------------------------------\u001b[0m",
      "\u001b[0;31mKeyError\u001b[0m                                  Traceback (most recent call last)",
      "\u001b[1;32m/data/docker/notebook/personal/ksuchoi216/face-id-model/train_seperated_model.ipynb Cell 5\u001b[0m in \u001b[0;36m<cell line: 4>\u001b[0;34m()\u001b[0m\n\u001b[1;32m      <a href='vscode-notebook-cell://ssh-remote%2B192.168.1.100/data/docker/notebook/personal/ksuchoi216/face-id-model/train_seperated_model.ipynb#X23sdnNjb2RlLXJlbW90ZQ%3D%3D?line=0'>1</a>\u001b[0m \u001b[39mfrom\u001b[39;00m \u001b[39mmodules\u001b[39;00m \u001b[39mimport\u001b[39;00m Builder_Seperated_Model\n\u001b[1;32m      <a href='vscode-notebook-cell://ssh-remote%2B192.168.1.100/data/docker/notebook/personal/ksuchoi216/face-id-model/train_seperated_model.ipynb#X23sdnNjb2RlLXJlbW90ZQ%3D%3D?line=2'>3</a>\u001b[0m \u001b[39m# building model\u001b[39;00m\n\u001b[0;32m----> <a href='vscode-notebook-cell://ssh-remote%2B192.168.1.100/data/docker/notebook/personal/ksuchoi216/face-id-model/train_seperated_model.ipynb#X23sdnNjb2RlLXJlbW90ZQ%3D%3D?line=3'>4</a>\u001b[0m builder \u001b[39m=\u001b[39m Builder_Seperated_Model(cfg[\u001b[39m'\u001b[39;49m\u001b[39mmodel\u001b[39;49m\u001b[39m'\u001b[39;49m])\n\u001b[1;32m      <a href='vscode-notebook-cell://ssh-remote%2B192.168.1.100/data/docker/notebook/personal/ksuchoi216/face-id-model/train_seperated_model.ipynb#X23sdnNjb2RlLXJlbW90ZQ%3D%3D?line=4'>5</a>\u001b[0m builder\u001b[39m.\u001b[39msummary()\n\u001b[1;32m      <a href='vscode-notebook-cell://ssh-remote%2B192.168.1.100/data/docker/notebook/personal/ksuchoi216/face-id-model/train_seperated_model.ipynb#X23sdnNjb2RlLXJlbW90ZQ%3D%3D?line=5'>6</a>\u001b[0m model \u001b[39m=\u001b[39m builder\u001b[39m.\u001b[39mgetModel()\n",
      "File \u001b[0;32m/notebook/personal/ksuchoi216/face-id-model/modules/Builder.py:89\u001b[0m, in \u001b[0;36mBuilder_Seperated_Model.__init__\u001b[0;34m(self, cfg)\u001b[0m\n\u001b[1;32m     84\u001b[0m \u001b[39mprint\u001b[39m(\u001b[39mf\u001b[39m\u001b[39m'\u001b[39m\u001b[39mdevice is \u001b[39m\u001b[39m{\u001b[39;00m\u001b[39mself\u001b[39m\u001b[39m.\u001b[39mdevice\u001b[39m}\u001b[39;00m\u001b[39m'\u001b[39m)\n\u001b[1;32m     86\u001b[0m face_feature_extractor \u001b[39m=\u001b[39m InceptionResnetV1(pretrained\u001b[39m=\u001b[39m\u001b[39mself\u001b[39m\u001b[39m.\u001b[39mpretrained, num_classes\u001b[39m=\u001b[39m\u001b[39mself\u001b[39m\u001b[39m.\u001b[39mnum_classes, classify\u001b[39m=\u001b[39m\u001b[39mself\u001b[39m\u001b[39m.\u001b[39mclassify, device\u001b[39m=\u001b[39m\u001b[39mself\u001b[39m\u001b[39m.\u001b[39mdevice)\n\u001b[0;32m---> 89\u001b[0m \u001b[39mself\u001b[39m\u001b[39m.\u001b[39mclassifier \u001b[39m=\u001b[39m Classifier(cfg[\u001b[39m'\u001b[39;49m\u001b[39mclassifier\u001b[39;49m\u001b[39m'\u001b[39;49m], face_feature_extractor\u001b[39m=\u001b[39mface_feature_extractor)\u001b[39m.\u001b[39mto(\u001b[39mself\u001b[39m\u001b[39m.\u001b[39mdevice)\n\u001b[1;32m     91\u001b[0m \u001b[39mprint\u001b[39m(\u001b[39m'\u001b[39m\u001b[39mLoading model was just completed.\u001b[39m\u001b[39m'\u001b[39m)\n",
      "\u001b[0;31mKeyError\u001b[0m: 'classifier'"
     ]
    }
   ],
   "source": [
    "from modules import Builder_Seperated_Model\n",
    "\n",
    "# building model\n",
    "builder = Builder_Seperated_Model(cfg['model'])\n",
    "builder.summary()\n",
    "model = builder.getModel()\n",
    "\n",
    "# declare loss function, optimizer, scheduler\n",
    "criterion = nn.CrossEntropyLoss()\n",
    "optimizer = optim.SGD(model.parameters(), lr=0.001, momentum=0.9)\n",
    "scheduler = lr_scheduler.StepLR(optimizer, step_size=7, gamma=0.1)"
   ]
  },
  {
   "cell_type": "code",
   "execution_count": 10,
   "metadata": {},
   "outputs": [
    {
     "name": "stdout",
     "output_type": "stream",
     "text": [
      "Epoch 0/29\n",
      "train Loss: 1.3828 Acc: 0.4774 recall: 0.4229 Precision: 0.2506\n",
      "val Loss: 1.3830 Acc: 0.4953 recall: 0.4279 Precision: 0.2507\n",
      "----------------------------------------------------------------------------------------------------\n",
      "Epoch 1/29\n",
      "train Loss: 1.3827 Acc: 0.4786 recall: 0.4239 Precision: 0.2583\n",
      "val Loss: 1.3829 Acc: 0.4673 recall: 0.4260 Precision: 0.2571\n",
      "----------------------------------------------------------------------------------------------------\n",
      "Epoch 2/29\n",
      "train Loss: 1.3826 Acc: 0.4855 recall: 0.4301 Precision: 0.2501\n",
      "val Loss: 1.3826 Acc: 0.4953 recall: 0.4344 Precision: 0.2512\n",
      "----------------------------------------------------------------------------------------------------\n",
      "Epoch 3/29\n",
      "train Loss: 1.3825 Acc: 0.4832 recall: 0.4280 Precision: 0.2521\n",
      "val Loss: 1.3825 Acc: 0.5047 recall: 0.4334 Precision: 0.2540\n",
      "----------------------------------------------------------------------------------------------------\n",
      "Epoch 4/29\n",
      "train Loss: 1.3824 Acc: 0.4925 recall: 0.4362 Precision: 0.2601\n",
      "val Loss: 1.3827 Acc: 0.4766 recall: 0.4380 Precision: 0.2598\n",
      "----------------------------------------------------------------------------------------------------\n",
      "Epoch 5/29\n",
      "train Loss: 1.3824 Acc: 0.4739 recall: 0.4198 Precision: 0.2462\n",
      "val Loss: 1.3825 Acc: 0.5047 recall: 0.4260 Precision: 0.2467\n",
      "----------------------------------------------------------------------------------------------------\n",
      "Epoch 6/29\n",
      "train Loss: 1.3824 Acc: 0.4820 recall: 0.4270 Precision: 0.2522\n",
      "val Loss: 1.3827 Acc: 0.5234 recall: 0.4343 Precision: 0.2531\n",
      "----------------------------------------------------------------------------------------------------\n",
      "Epoch 7/29\n",
      "train Loss: 1.3822 Acc: 0.4913 recall: 0.4352 Precision: 0.2553\n",
      "val Loss: 1.3826 Acc: 0.5140 recall: 0.4408 Precision: 0.2555\n",
      "----------------------------------------------------------------------------------------------------\n",
      "Epoch 8/29\n",
      "train Loss: 1.3822 Acc: 0.4925 recall: 0.4362 Precision: 0.2578\n",
      "val Loss: 1.3825 Acc: 0.5140 recall: 0.4417 Precision: 0.2573\n",
      "----------------------------------------------------------------------------------------------------\n",
      "Epoch 9/29\n",
      "train Loss: 1.3823 Acc: 0.4925 recall: 0.4362 Precision: 0.2566\n",
      "val Loss: 1.3826 Acc: 0.5140 recall: 0.4417 Precision: 0.2568\n",
      "----------------------------------------------------------------------------------------------------\n",
      "Epoch 10/29\n",
      "train Loss: 1.3823 Acc: 0.4774 recall: 0.4229 Precision: 0.2509\n",
      "val Loss: 1.3826 Acc: 0.5047 recall: 0.4288 Precision: 0.2507\n",
      "----------------------------------------------------------------------------------------------------\n",
      "Epoch 11/29\n",
      "train Loss: 1.3823 Acc: 0.4751 recall: 0.4208 Precision: 0.2507\n",
      "val Loss: 1.3827 Acc: 0.4860 recall: 0.4251 Precision: 0.2511\n",
      "----------------------------------------------------------------------------------------------------\n",
      "Epoch 12/29\n",
      "train Loss: 1.3822 Acc: 0.4786 recall: 0.4239 Precision: 0.2501\n",
      "val Loss: 1.3826 Acc: 0.4860 recall: 0.4279 Precision: 0.2498\n",
      "----------------------------------------------------------------------------------------------------\n",
      "Epoch 13/29\n",
      "train Loss: 1.3822 Acc: 0.4809 recall: 0.4259 Precision: 0.2509\n",
      "val Loss: 1.3826 Acc: 0.5140 recall: 0.4324 Precision: 0.2513\n",
      "----------------------------------------------------------------------------------------------------\n",
      "Epoch 14/29\n",
      "train Loss: 1.3823 Acc: 0.4820 recall: 0.4270 Precision: 0.2536\n",
      "val Loss: 1.3825 Acc: 0.4860 recall: 0.4306 Precision: 0.2534\n",
      "----------------------------------------------------------------------------------------------------\n",
      "Epoch 15/29\n",
      "train Loss: 1.3822 Acc: 0.4878 recall: 0.4321 Precision: 0.2554\n",
      "val Loss: 1.3825 Acc: 0.4953 recall: 0.4362 Precision: 0.2555\n",
      "----------------------------------------------------------------------------------------------------\n",
      "Epoch 16/29\n",
      "train Loss: 1.3824 Acc: 0.4739 recall: 0.4198 Precision: 0.2495\n",
      "val Loss: 1.3826 Acc: 0.5140 recall: 0.4269 Precision: 0.2499\n",
      "----------------------------------------------------------------------------------------------------\n",
      "Epoch 17/29\n",
      "train Loss: 1.3822 Acc: 0.4890 recall: 0.4332 Precision: 0.2517\n",
      "val Loss: 1.3826 Acc: 0.5234 recall: 0.4399 Precision: 0.2527\n",
      "----------------------------------------------------------------------------------------------------\n",
      "Epoch 18/29\n",
      "train Loss: 1.3822 Acc: 0.4936 recall: 0.4373 Precision: 0.2558\n",
      "val Loss: 1.3826 Acc: 0.5047 recall: 0.4417 Precision: 0.2559\n",
      "----------------------------------------------------------------------------------------------------\n",
      "Epoch 19/29\n",
      "train Loss: 1.3823 Acc: 0.4878 recall: 0.4321 Precision: 0.2540\n",
      "val Loss: 1.3825 Acc: 0.5140 recall: 0.4381 Precision: 0.2547\n",
      "----------------------------------------------------------------------------------------------------\n",
      "Epoch 20/29\n",
      "train Loss: 1.3822 Acc: 0.4844 recall: 0.4290 Precision: 0.2532\n",
      "val Loss: 1.3826 Acc: 0.5234 recall: 0.4362 Precision: 0.2533\n",
      "----------------------------------------------------------------------------------------------------\n",
      "Epoch 21/29\n",
      "train Loss: 1.3823 Acc: 0.4948 recall: 0.4383 Precision: 0.2568\n",
      "val Loss: 1.3827 Acc: 0.4486 recall: 0.4371 Precision: 0.2561\n",
      "----------------------------------------------------------------------------------------------------\n",
      "Epoch 22/29\n",
      "train Loss: 1.3823 Acc: 0.4820 recall: 0.4270 Precision: 0.2535\n",
      "val Loss: 1.3825 Acc: 0.5047 recall: 0.4325 Precision: 0.2532\n",
      "----------------------------------------------------------------------------------------------------\n",
      "Epoch 23/29\n"
     ]
    },
    {
     "ename": "KeyboardInterrupt",
     "evalue": "",
     "output_type": "error",
     "traceback": [
      "\u001b[0;31m---------------------------------------------------------------------------\u001b[0m",
      "\u001b[0;31mKeyboardInterrupt\u001b[0m                         Traceback (most recent call last)",
      "\u001b[1;32m/data/docker/notebook/personal/ksuchoi216/face-id-model/train_seperated_model.ipynb Cell 6\u001b[0m in \u001b[0;36m<cell line: 4>\u001b[0;34m()\u001b[0m\n\u001b[1;32m      <a href='vscode-notebook-cell://ssh-remote%2B192.168.1.100/data/docker/notebook/personal/ksuchoi216/face-id-model/train_seperated_model.ipynb#W6sdnNjb2RlLXJlbW90ZQ%3D%3D?line=0'>1</a>\u001b[0m \u001b[39mfrom\u001b[39;00m \u001b[39mmodules\u001b[39;00m \u001b[39mimport\u001b[39;00m runner\n\u001b[1;32m      <a href='vscode-notebook-cell://ssh-remote%2B192.168.1.100/data/docker/notebook/personal/ksuchoi216/face-id-model/train_seperated_model.ipynb#W6sdnNjb2RlLXJlbW90ZQ%3D%3D?line=1'>2</a>\u001b[0m phases \u001b[39m=\u001b[39m [\u001b[39m'\u001b[39m\u001b[39mtrain\u001b[39m\u001b[39m'\u001b[39m, \u001b[39m'\u001b[39m\u001b[39mval\u001b[39m\u001b[39m'\u001b[39m]\n\u001b[0;32m----> <a href='vscode-notebook-cell://ssh-remote%2B192.168.1.100/data/docker/notebook/personal/ksuchoi216/face-id-model/train_seperated_model.ipynb#W6sdnNjb2RlLXJlbW90ZQ%3D%3D?line=3'>4</a>\u001b[0m model, train_evaluation_matrix, val_evaluation_matrix \u001b[39m=\u001b[39m runner(model, phases, criterion, optimizer, scheduler, \n\u001b[1;32m      <a href='vscode-notebook-cell://ssh-remote%2B192.168.1.100/data/docker/notebook/personal/ksuchoi216/face-id-model/train_seperated_model.ipynb#W6sdnNjb2RlLXJlbW90ZQ%3D%3D?line=4'>5</a>\u001b[0m                                                                dataloaders, dataset_sizes, num_epochs\u001b[39m=\u001b[39;49m\u001b[39m30\u001b[39;49m)\n",
      "File \u001b[0;32m/notebook/personal/ksuchoi216/face-id-model/modules/Runner.py:64\u001b[0m, in \u001b[0;36mrunner\u001b[0;34m(model, phases, criterion, optimizer, scheduler, dataloaders, dataset_sizes, num_epochs)\u001b[0m\n\u001b[1;32m     60\u001b[0m running_corrects \u001b[39m=\u001b[39m \u001b[39m0\u001b[39m\n\u001b[1;32m     63\u001b[0m \u001b[39m# Iterate over data.\u001b[39;00m\n\u001b[0;32m---> 64\u001b[0m \u001b[39mfor\u001b[39;00m i, (images, labels) \u001b[39min\u001b[39;00m \u001b[39menumerate\u001b[39m(dataloaders[phase]):\n\u001b[1;32m     66\u001b[0m     images \u001b[39m=\u001b[39m images\u001b[39m.\u001b[39mto(device)\n\u001b[1;32m     67\u001b[0m     labels \u001b[39m=\u001b[39m labels\u001b[39m.\u001b[39mto(device)\n",
      "File \u001b[0;32m~/.pyenv/versions/python39/lib/python3.9/site-packages/torch/utils/data/dataloader.py:652\u001b[0m, in \u001b[0;36m_BaseDataLoaderIter.__next__\u001b[0;34m(self)\u001b[0m\n\u001b[1;32m    649\u001b[0m \u001b[39mif\u001b[39;00m \u001b[39mself\u001b[39m\u001b[39m.\u001b[39m_sampler_iter \u001b[39mis\u001b[39;00m \u001b[39mNone\u001b[39;00m:\n\u001b[1;32m    650\u001b[0m     \u001b[39m# TODO(https://github.com/pytorch/pytorch/issues/76750)\u001b[39;00m\n\u001b[1;32m    651\u001b[0m     \u001b[39mself\u001b[39m\u001b[39m.\u001b[39m_reset()  \u001b[39m# type: ignore[call-arg]\u001b[39;00m\n\u001b[0;32m--> 652\u001b[0m data \u001b[39m=\u001b[39m \u001b[39mself\u001b[39;49m\u001b[39m.\u001b[39;49m_next_data()\n\u001b[1;32m    653\u001b[0m \u001b[39mself\u001b[39m\u001b[39m.\u001b[39m_num_yielded \u001b[39m+\u001b[39m\u001b[39m=\u001b[39m \u001b[39m1\u001b[39m\n\u001b[1;32m    654\u001b[0m \u001b[39mif\u001b[39;00m \u001b[39mself\u001b[39m\u001b[39m.\u001b[39m_dataset_kind \u001b[39m==\u001b[39m _DatasetKind\u001b[39m.\u001b[39mIterable \u001b[39mand\u001b[39;00m \\\n\u001b[1;32m    655\u001b[0m         \u001b[39mself\u001b[39m\u001b[39m.\u001b[39m_IterableDataset_len_called \u001b[39mis\u001b[39;00m \u001b[39mnot\u001b[39;00m \u001b[39mNone\u001b[39;00m \u001b[39mand\u001b[39;00m \\\n\u001b[1;32m    656\u001b[0m         \u001b[39mself\u001b[39m\u001b[39m.\u001b[39m_num_yielded \u001b[39m>\u001b[39m \u001b[39mself\u001b[39m\u001b[39m.\u001b[39m_IterableDataset_len_called:\n",
      "File \u001b[0;32m~/.pyenv/versions/python39/lib/python3.9/site-packages/torch/utils/data/dataloader.py:692\u001b[0m, in \u001b[0;36m_SingleProcessDataLoaderIter._next_data\u001b[0;34m(self)\u001b[0m\n\u001b[1;32m    690\u001b[0m \u001b[39mdef\u001b[39;00m \u001b[39m_next_data\u001b[39m(\u001b[39mself\u001b[39m):\n\u001b[1;32m    691\u001b[0m     index \u001b[39m=\u001b[39m \u001b[39mself\u001b[39m\u001b[39m.\u001b[39m_next_index()  \u001b[39m# may raise StopIteration\u001b[39;00m\n\u001b[0;32m--> 692\u001b[0m     data \u001b[39m=\u001b[39m \u001b[39mself\u001b[39;49m\u001b[39m.\u001b[39;49m_dataset_fetcher\u001b[39m.\u001b[39;49mfetch(index)  \u001b[39m# may raise StopIteration\u001b[39;00m\n\u001b[1;32m    693\u001b[0m     \u001b[39mif\u001b[39;00m \u001b[39mself\u001b[39m\u001b[39m.\u001b[39m_pin_memory:\n\u001b[1;32m    694\u001b[0m         data \u001b[39m=\u001b[39m _utils\u001b[39m.\u001b[39mpin_memory\u001b[39m.\u001b[39mpin_memory(data, \u001b[39mself\u001b[39m\u001b[39m.\u001b[39m_pin_memory_device)\n",
      "File \u001b[0;32m~/.pyenv/versions/python39/lib/python3.9/site-packages/torch/utils/data/_utils/fetch.py:49\u001b[0m, in \u001b[0;36m_MapDatasetFetcher.fetch\u001b[0;34m(self, possibly_batched_index)\u001b[0m\n\u001b[1;32m     47\u001b[0m \u001b[39mdef\u001b[39;00m \u001b[39mfetch\u001b[39m(\u001b[39mself\u001b[39m, possibly_batched_index):\n\u001b[1;32m     48\u001b[0m     \u001b[39mif\u001b[39;00m \u001b[39mself\u001b[39m\u001b[39m.\u001b[39mauto_collation:\n\u001b[0;32m---> 49\u001b[0m         data \u001b[39m=\u001b[39m [\u001b[39mself\u001b[39m\u001b[39m.\u001b[39mdataset[idx] \u001b[39mfor\u001b[39;00m idx \u001b[39min\u001b[39;00m possibly_batched_index]\n\u001b[1;32m     50\u001b[0m     \u001b[39melse\u001b[39;00m:\n\u001b[1;32m     51\u001b[0m         data \u001b[39m=\u001b[39m \u001b[39mself\u001b[39m\u001b[39m.\u001b[39mdataset[possibly_batched_index]\n",
      "File \u001b[0;32m~/.pyenv/versions/python39/lib/python3.9/site-packages/torch/utils/data/_utils/fetch.py:49\u001b[0m, in \u001b[0;36m<listcomp>\u001b[0;34m(.0)\u001b[0m\n\u001b[1;32m     47\u001b[0m \u001b[39mdef\u001b[39;00m \u001b[39mfetch\u001b[39m(\u001b[39mself\u001b[39m, possibly_batched_index):\n\u001b[1;32m     48\u001b[0m     \u001b[39mif\u001b[39;00m \u001b[39mself\u001b[39m\u001b[39m.\u001b[39mauto_collation:\n\u001b[0;32m---> 49\u001b[0m         data \u001b[39m=\u001b[39m [\u001b[39mself\u001b[39;49m\u001b[39m.\u001b[39;49mdataset[idx] \u001b[39mfor\u001b[39;00m idx \u001b[39min\u001b[39;00m possibly_batched_index]\n\u001b[1;32m     50\u001b[0m     \u001b[39melse\u001b[39;00m:\n\u001b[1;32m     51\u001b[0m         data \u001b[39m=\u001b[39m \u001b[39mself\u001b[39m\u001b[39m.\u001b[39mdataset[possibly_batched_index]\n",
      "File \u001b[0;32m~/.pyenv/versions/python39/lib/python3.9/site-packages/torch/utils/data/dataset.py:290\u001b[0m, in \u001b[0;36mSubset.__getitem__\u001b[0;34m(self, idx)\u001b[0m\n\u001b[1;32m    288\u001b[0m \u001b[39mif\u001b[39;00m \u001b[39misinstance\u001b[39m(idx, \u001b[39mlist\u001b[39m):\n\u001b[1;32m    289\u001b[0m     \u001b[39mreturn\u001b[39;00m \u001b[39mself\u001b[39m\u001b[39m.\u001b[39mdataset[[\u001b[39mself\u001b[39m\u001b[39m.\u001b[39mindices[i] \u001b[39mfor\u001b[39;00m i \u001b[39min\u001b[39;00m idx]]\n\u001b[0;32m--> 290\u001b[0m \u001b[39mreturn\u001b[39;00m \u001b[39mself\u001b[39;49m\u001b[39m.\u001b[39;49mdataset[\u001b[39mself\u001b[39;49m\u001b[39m.\u001b[39;49mindices[idx]]\n",
      "File \u001b[0;32m~/.pyenv/versions/python39/lib/python3.9/site-packages/torchvision/datasets/folder.py:232\u001b[0m, in \u001b[0;36mDatasetFolder.__getitem__\u001b[0;34m(self, index)\u001b[0m\n\u001b[1;32m    230\u001b[0m sample \u001b[39m=\u001b[39m \u001b[39mself\u001b[39m\u001b[39m.\u001b[39mloader(path)\n\u001b[1;32m    231\u001b[0m \u001b[39mif\u001b[39;00m \u001b[39mself\u001b[39m\u001b[39m.\u001b[39mtransform \u001b[39mis\u001b[39;00m \u001b[39mnot\u001b[39;00m \u001b[39mNone\u001b[39;00m:\n\u001b[0;32m--> 232\u001b[0m     sample \u001b[39m=\u001b[39m \u001b[39mself\u001b[39;49m\u001b[39m.\u001b[39;49mtransform(sample)\n\u001b[1;32m    233\u001b[0m \u001b[39mif\u001b[39;00m \u001b[39mself\u001b[39m\u001b[39m.\u001b[39mtarget_transform \u001b[39mis\u001b[39;00m \u001b[39mnot\u001b[39;00m \u001b[39mNone\u001b[39;00m:\n\u001b[1;32m    234\u001b[0m     target \u001b[39m=\u001b[39m \u001b[39mself\u001b[39m\u001b[39m.\u001b[39mtarget_transform(target)\n",
      "File \u001b[0;32m~/.pyenv/versions/python39/lib/python3.9/site-packages/torchvision/transforms/transforms.py:94\u001b[0m, in \u001b[0;36mCompose.__call__\u001b[0;34m(self, img)\u001b[0m\n\u001b[1;32m     92\u001b[0m \u001b[39mdef\u001b[39;00m \u001b[39m__call__\u001b[39m(\u001b[39mself\u001b[39m, img):\n\u001b[1;32m     93\u001b[0m     \u001b[39mfor\u001b[39;00m t \u001b[39min\u001b[39;00m \u001b[39mself\u001b[39m\u001b[39m.\u001b[39mtransforms:\n\u001b[0;32m---> 94\u001b[0m         img \u001b[39m=\u001b[39m t(img)\n\u001b[1;32m     95\u001b[0m     \u001b[39mreturn\u001b[39;00m img\n",
      "File \u001b[0;32m~/.pyenv/versions/python39/lib/python3.9/site-packages/torch/nn/modules/module.py:1130\u001b[0m, in \u001b[0;36mModule._call_impl\u001b[0;34m(self, *input, **kwargs)\u001b[0m\n\u001b[1;32m   1126\u001b[0m \u001b[39m# If we don't have any hooks, we want to skip the rest of the logic in\u001b[39;00m\n\u001b[1;32m   1127\u001b[0m \u001b[39m# this function, and just call forward.\u001b[39;00m\n\u001b[1;32m   1128\u001b[0m \u001b[39mif\u001b[39;00m \u001b[39mnot\u001b[39;00m (\u001b[39mself\u001b[39m\u001b[39m.\u001b[39m_backward_hooks \u001b[39mor\u001b[39;00m \u001b[39mself\u001b[39m\u001b[39m.\u001b[39m_forward_hooks \u001b[39mor\u001b[39;00m \u001b[39mself\u001b[39m\u001b[39m.\u001b[39m_forward_pre_hooks \u001b[39mor\u001b[39;00m _global_backward_hooks\n\u001b[1;32m   1129\u001b[0m         \u001b[39mor\u001b[39;00m _global_forward_hooks \u001b[39mor\u001b[39;00m _global_forward_pre_hooks):\n\u001b[0;32m-> 1130\u001b[0m     \u001b[39mreturn\u001b[39;00m forward_call(\u001b[39m*\u001b[39;49m\u001b[39minput\u001b[39;49m, \u001b[39m*\u001b[39;49m\u001b[39m*\u001b[39;49mkwargs)\n\u001b[1;32m   1131\u001b[0m \u001b[39m# Do not call functions when jit is used\u001b[39;00m\n\u001b[1;32m   1132\u001b[0m full_backward_hooks, non_full_backward_hooks \u001b[39m=\u001b[39m [], []\n",
      "File \u001b[0;32m~/.pyenv/versions/python39/lib/python3.9/site-packages/torchvision/transforms/transforms.py:349\u001b[0m, in \u001b[0;36mResize.forward\u001b[0;34m(self, img)\u001b[0m\n\u001b[1;32m    341\u001b[0m \u001b[39mdef\u001b[39;00m \u001b[39mforward\u001b[39m(\u001b[39mself\u001b[39m, img):\n\u001b[1;32m    342\u001b[0m     \u001b[39m\"\"\"\u001b[39;00m\n\u001b[1;32m    343\u001b[0m \u001b[39m    Args:\u001b[39;00m\n\u001b[1;32m    344\u001b[0m \u001b[39m        img (PIL Image or Tensor): Image to be scaled.\u001b[39;00m\n\u001b[0;32m   (...)\u001b[0m\n\u001b[1;32m    347\u001b[0m \u001b[39m        PIL Image or Tensor: Rescaled image.\u001b[39;00m\n\u001b[1;32m    348\u001b[0m \u001b[39m    \"\"\"\u001b[39;00m\n\u001b[0;32m--> 349\u001b[0m     \u001b[39mreturn\u001b[39;00m F\u001b[39m.\u001b[39;49mresize(img, \u001b[39mself\u001b[39;49m\u001b[39m.\u001b[39;49msize, \u001b[39mself\u001b[39;49m\u001b[39m.\u001b[39;49minterpolation, \u001b[39mself\u001b[39;49m\u001b[39m.\u001b[39;49mmax_size, \u001b[39mself\u001b[39;49m\u001b[39m.\u001b[39;49mantialias)\n",
      "File \u001b[0;32m~/.pyenv/versions/python39/lib/python3.9/site-packages/torchvision/transforms/functional.py:430\u001b[0m, in \u001b[0;36mresize\u001b[0;34m(img, size, interpolation, max_size, antialias)\u001b[0m\n\u001b[1;32m    428\u001b[0m         warnings\u001b[39m.\u001b[39mwarn(\u001b[39m\"\u001b[39m\u001b[39mAnti-alias option is always applied for PIL Image input. Argument antialias is ignored.\u001b[39m\u001b[39m\"\u001b[39m)\n\u001b[1;32m    429\u001b[0m     pil_interpolation \u001b[39m=\u001b[39m pil_modes_mapping[interpolation]\n\u001b[0;32m--> 430\u001b[0m     \u001b[39mreturn\u001b[39;00m F_pil\u001b[39m.\u001b[39;49mresize(img, size\u001b[39m=\u001b[39;49msize, interpolation\u001b[39m=\u001b[39;49mpil_interpolation, max_size\u001b[39m=\u001b[39;49mmax_size)\n\u001b[1;32m    432\u001b[0m \u001b[39mreturn\u001b[39;00m F_t\u001b[39m.\u001b[39mresize(img, size\u001b[39m=\u001b[39msize, interpolation\u001b[39m=\u001b[39minterpolation\u001b[39m.\u001b[39mvalue, max_size\u001b[39m=\u001b[39mmax_size, antialias\u001b[39m=\u001b[39mantialias)\n",
      "File \u001b[0;32m~/.pyenv/versions/python39/lib/python3.9/site-packages/torchvision/transforms/functional_pil.py:275\u001b[0m, in \u001b[0;36mresize\u001b[0;34m(img, size, interpolation, max_size)\u001b[0m\n\u001b[1;32m    273\u001b[0m         \u001b[39mreturn\u001b[39;00m img\n\u001b[1;32m    274\u001b[0m     \u001b[39melse\u001b[39;00m:\n\u001b[0;32m--> 275\u001b[0m         \u001b[39mreturn\u001b[39;00m img\u001b[39m.\u001b[39;49mresize((new_w, new_h), interpolation)\n\u001b[1;32m    276\u001b[0m \u001b[39melse\u001b[39;00m:\n\u001b[1;32m    277\u001b[0m     \u001b[39mif\u001b[39;00m max_size \u001b[39mis\u001b[39;00m \u001b[39mnot\u001b[39;00m \u001b[39mNone\u001b[39;00m:\n",
      "File \u001b[0;32m~/.pyenv/versions/python39/lib/python3.9/site-packages/PIL/Image.py:2082\u001b[0m, in \u001b[0;36mImage.resize\u001b[0;34m(self, size, resample, box, reducing_gap)\u001b[0m\n\u001b[1;32m   2074\u001b[0m             \u001b[39mself\u001b[39m \u001b[39m=\u001b[39m Image\u001b[39m.\u001b[39mreduce(\u001b[39mself\u001b[39m, factor, box\u001b[39m=\u001b[39mreduce_box)\n\u001b[1;32m   2075\u001b[0m         box \u001b[39m=\u001b[39m (\n\u001b[1;32m   2076\u001b[0m             (box[\u001b[39m0\u001b[39m] \u001b[39m-\u001b[39m reduce_box[\u001b[39m0\u001b[39m]) \u001b[39m/\u001b[39m factor_x,\n\u001b[1;32m   2077\u001b[0m             (box[\u001b[39m1\u001b[39m] \u001b[39m-\u001b[39m reduce_box[\u001b[39m1\u001b[39m]) \u001b[39m/\u001b[39m factor_y,\n\u001b[1;32m   2078\u001b[0m             (box[\u001b[39m2\u001b[39m] \u001b[39m-\u001b[39m reduce_box[\u001b[39m0\u001b[39m]) \u001b[39m/\u001b[39m factor_x,\n\u001b[1;32m   2079\u001b[0m             (box[\u001b[39m3\u001b[39m] \u001b[39m-\u001b[39m reduce_box[\u001b[39m1\u001b[39m]) \u001b[39m/\u001b[39m factor_y,\n\u001b[1;32m   2080\u001b[0m         )\n\u001b[0;32m-> 2082\u001b[0m \u001b[39mreturn\u001b[39;00m \u001b[39mself\u001b[39m\u001b[39m.\u001b[39m_new(\u001b[39mself\u001b[39;49m\u001b[39m.\u001b[39;49mim\u001b[39m.\u001b[39;49mresize(size, resample, box))\n",
      "\u001b[0;31mKeyboardInterrupt\u001b[0m: "
     ]
    }
   ],
   "source": [
    "from modules import runner\n",
    "phases = ['train', 'val']\n",
    "\n",
    "model, train_evaluation_matrix, val_evaluation_matrix = runner(model, phases, criterion, optimizer, scheduler, \n",
    "                                                               dataloaders, dataset_sizes, num_epochs=30)"
   ]
  },
  {
   "cell_type": "code",
   "execution_count": 6,
   "metadata": {},
   "outputs": [],
   "source": [
    "train_evaluation_numpy = train_evaluation_matrix.to('cpu').numpy()\n",
    "val_evaluation_numpy = val_evaluation_matrix.to('cpu').numpy()\n",
    "\n",
    "num_epochs, num_evaluations = train_evaluation_numpy.shape\n",
    "print(num_epochs, num_evaluations)\n",
    "\n",
    "\n",
    "title_list = ['loss', 'accuracy', 'recall', 'precision']\n",
    "for col, title in zip(range(0, num_evaluations), title_list):\n",
    "  plt.figure(figsize=(10, 6), dpi=80)\n",
    "  plt.ylabel(title)\n",
    "  plt.xlabel('epoch')\n",
    "  plt.plot(range(0, num_epochs), train_evaluation_numpy[:, col])\n",
    "  plt.show()"
   ]
  },
  {
   "cell_type": "code",
   "execution_count": 8,
   "metadata": {},
   "outputs": [
    {
     "name": "stdout",
     "output_type": "stream",
     "text": [
      "Epoch 0/0\n",
      "test Loss: 1.3833 Acc: 0.5138 recall: 0.4917 Precision: 0.2585\n",
      "----------------------------------------------------------------------------------------------------\n",
      "Training complete in 0m 1s\n",
      "Best val Acc: 0.000000\n",
      "there is no return value becasue of test mode\n"
     ]
    }
   ],
   "source": [
    "phases = ['test']\n",
    "runner(model, phases, criterion, optimizer, scheduler, dataloaders, dataset_sizes, num_epochs=1)"
   ]
  },
  {
   "cell_type": "markdown",
   "metadata": {},
   "source": [
    "## Save trained model"
   ]
  },
  {
   "cell_type": "code",
   "execution_count": 9,
   "metadata": {},
   "outputs": [
    {
     "ename": "TypeError",
     "evalue": "load_config() missing 1 required positional argument: 'filename'",
     "output_type": "error",
     "traceback": [
      "\u001b[0;31m---------------------------------------------------------------------------\u001b[0m",
      "\u001b[0;31mTypeError\u001b[0m                                 Traceback (most recent call last)",
      "\u001b[1;32m/data/docker/notebook/personal/ksuchoi216/face-id-model/train_seperated_model.ipynb Cell 11\u001b[0m in \u001b[0;36m<cell line: 1>\u001b[0;34m()\u001b[0m\n\u001b[0;32m----> <a href='vscode-notebook-cell://ssh-remote%2B192.168.1.100/data/docker/notebook/personal/ksuchoi216/face-id-model/train_seperated_model.ipynb#X14sdnNjb2RlLXJlbW90ZQ%3D%3D?line=0'>1</a>\u001b[0m cfg \u001b[39m=\u001b[39m load_config()\n\u001b[1;32m      <a href='vscode-notebook-cell://ssh-remote%2B192.168.1.100/data/docker/notebook/personal/ksuchoi216/face-id-model/train_seperated_model.ipynb#X14sdnNjb2RlLXJlbW90ZQ%3D%3D?line=1'>2</a>\u001b[0m path_for_saving_model \u001b[39m=\u001b[39m cfg[\u001b[39m'\u001b[39m\u001b[39mpath_for_saving_model\u001b[39m\u001b[39m'\u001b[39m]\n\u001b[1;32m      <a href='vscode-notebook-cell://ssh-remote%2B192.168.1.100/data/docker/notebook/personal/ksuchoi216/face-id-model/train_seperated_model.ipynb#X14sdnNjb2RlLXJlbW90ZQ%3D%3D?line=2'>3</a>\u001b[0m \u001b[39mtry\u001b[39;00m: \n",
      "\u001b[0;31mTypeError\u001b[0m: load_config() missing 1 required positional argument: 'filename'"
     ]
    }
   ],
   "source": [
    "cfg = load_config()\n",
    "path_for_saving_model = cfg['path_for_saving_model']\n",
    "try: \n",
    "  torch.save(model.state_dict(), path_for_saving_model)\n",
    "  print(f'successfully saved model in {path_for_saving_model}')\n",
    "except:\n",
    "  print(f'failed saving model in {path_for_saving_model}')"
   ]
  },
  {
   "cell_type": "markdown",
   "metadata": {},
   "source": [
    "# [TEST] face_feature_extractor with trained classifier(last layer)"
   ]
  },
  {
   "cell_type": "code",
   "execution_count": null,
   "metadata": {},
   "outputs": [
    {
     "name": "stdout",
     "output_type": "stream",
     "text": [
      "outputs before softmax: tensor([[ 8.0832, -2.8448, -0.9191, -2.7058],\n",
      "        [-2.2343,  6.6496, -3.4869, -0.1292],\n",
      "        [ 8.1746,  0.0634, -0.0749, -7.4552],\n",
      "        [-1.7504, -2.5398, -2.4510,  5.6972]], device='cuda:0',\n",
      "       grad_fn=<AddmmBackward0>)\n",
      "outputs after softmax: tensor([[9.9984e-01, 1.7947e-05, 1.2311e-04, 2.0622e-05],\n",
      "        [1.3842e-04, 9.9869e-01, 3.9557e-05, 1.1361e-03],\n",
      "        [9.9944e-01, 3.0000e-04, 2.6125e-04, 1.6285e-07],\n",
      "        [5.8220e-04, 2.6439e-04, 2.8894e-04, 9.9886e-01]], device='cuda:0',\n",
      "       grad_fn=<SoftmaxBackward0>)\n",
      "tensor([0.9998, 0.9987, 0.9994, 0.9989], device='cuda:0',\n",
      "       grad_fn=<MaxBackward0>)\n",
      "\n",
      "\n",
      "outputs before softmax: tensor([[ 0.0463, -1.7936,  7.1511, -1.7509],\n",
      "        [-0.5652, -1.1555,  8.3769, -4.5262],\n",
      "        [-0.0802, -3.1068,  4.0859, -0.6531],\n",
      "        [-3.0848,  0.3338, -2.4058,  4.5731]], device='cuda:0',\n",
      "       grad_fn=<AddmmBackward0>)\n",
      "outputs after softmax: tensor([[8.2027e-04, 1.3029e-04, 9.9891e-01, 1.3597e-04],\n",
      "        [1.3075e-04, 7.2455e-05, 9.9979e-01, 2.4898e-06],\n",
      "        [1.5134e-02, 7.3370e-04, 9.7560e-01, 8.5333e-03],\n",
      "        [4.6493e-04, 1.4193e-02, 9.1677e-04, 9.8442e-01]], device='cuda:0',\n",
      "       grad_fn=<SoftmaxBackward0>)\n",
      "tensor([0.9989, 0.9998, 0.9756, 0.9844], device='cuda:0',\n",
      "       grad_fn=<MaxBackward0>)\n",
      "\n",
      "\n",
      "outputs before softmax: tensor([[-0.8138, -0.9400,  5.8675, -2.2752],\n",
      "        [-0.3715, -2.3639,  7.7142, -3.8061],\n",
      "        [ 0.2215, -0.8457,  6.9357, -3.4504],\n",
      "        [-0.2231, -2.9067,  6.8707, -2.6588]], device='cuda:0',\n",
      "       grad_fn=<AddmmBackward0>)\n",
      "outputs after softmax: tensor([[1.2508e-03, 1.1025e-03, 9.9736e-01, 2.9006e-04],\n",
      "        [3.0781e-04, 4.1976e-05, 9.9964e-01, 9.9230e-06],\n",
      "        [1.2116e-03, 4.1675e-04, 9.9834e-01, 3.0807e-05],\n",
      "        [8.2946e-04, 5.6666e-05, 9.9904e-01, 7.2605e-05]], device='cuda:0',\n",
      "       grad_fn=<SoftmaxBackward0>)\n",
      "tensor([0.9974, 0.9996, 0.9983, 0.9990], device='cuda:0',\n",
      "       grad_fn=<MaxBackward0>)\n",
      "\n",
      "\n",
      "outputs before softmax: tensor([[-0.5986,  7.4425, -4.6341, -1.8294],\n",
      "        [ 0.3590, -2.3108,  7.1338, -4.2582],\n",
      "        [-3.5262, -1.6793, -0.8968,  7.7024],\n",
      "        [ 6.9994, -1.4540,  0.6751, -3.8923]], device='cuda:0',\n",
      "       grad_fn=<AddmmBackward0>)\n",
      "outputs after softmax: tensor([[3.2180e-04, 9.9958e-01, 5.6887e-06, 9.3988e-05],\n",
      "        [1.1407e-03, 7.9013e-05, 9.9877e-01, 1.1271e-05],\n",
      "        [1.3285e-05, 8.4229e-05, 1.8420e-04, 9.9972e-01],\n",
      "        [9.9798e-01, 2.1273e-04, 1.7886e-03, 1.8575e-05]], device='cuda:0',\n",
      "       grad_fn=<SoftmaxBackward0>)\n",
      "tensor([0.9996, 0.9988, 0.9997, 0.9980], device='cuda:0',\n",
      "       grad_fn=<MaxBackward0>)\n",
      "\n",
      "\n"
     ]
    }
   ],
   "source": [
    "phases = ['test']\n",
    "device = torch.device(\"cuda:0\" if torch.cuda.is_available() else \"cpu\")\n",
    "\n",
    "for phase in phases:\n",
    "  for i, (inputs, labels) in enumerate(dataloaders[phase]):\n",
    "    inputs = inputs.to(device)\n",
    "    labels = labels.to(device)\n",
    "\n",
    "    outputs = model(inputs)\n",
    "    print('outputs before softmax:', outputs)\n",
    "    outputs = F.softmax(outputs)\n",
    "    print('outputs after softmax:', outputs)\n",
    "    values, preds = torch.max(outputs, 1)\n",
    "    print(values)\n",
    "    \n",
    "    \n",
    "    print('\\n')\n",
    "    if i > 2:\n",
    "      break\n",
    "    "
   ]
  },
  {
   "cell_type": "code",
   "execution_count": null,
   "metadata": {},
   "outputs": [
    {
     "name": "stdout",
     "output_type": "stream",
     "text": [
      "preds:  tensor(6)\n",
      "true:  tensor(6)\n"
     ]
    }
   ],
   "source": [
    "import torch\n",
    "preds = torch.Tensor([1,1,1,1,0,1,0,0,0,1]).int().sum()\n",
    "print('preds: ',preds)\n",
    "true = torch.Tensor([0,1,1,1,0,1,0,0,1,1]).int().sum()\n",
    "print('true: ',true)\n"
   ]
  },
  {
   "cell_type": "code",
   "execution_count": null,
   "metadata": {},
   "outputs": [
    {
     "name": "stdout",
     "output_type": "stream",
     "text": [
      "tensor(0.9167, device='cuda:0') tensor(0.8333, device='cuda:0')\n"
     ]
    }
   ],
   "source": [
    "import torch\n",
    "\n",
    "preds_list = [1,1,1,0,0,0,1,1]\n",
    "labels_list = [1,1,1,0,0,1,1,1]\n",
    "\n",
    "\n",
    "def macro_evaluation(preds_list, labels_list):\n",
    "  device = torch.device(\"cuda:0\" if torch.cuda.is_available() else \"cpu\")\n",
    "\n",
    "  torch_preds = torch.Tensor(preds_list).int().to(device)\n",
    "  torch_labels = torch.Tensor(labels_list).int().to(device)\n",
    "\n",
    "  num_classes = len(torch.unique(torch_labels))\n",
    "  precision = 0\n",
    "  recall = 0\n",
    "  \n",
    "  for class_ in torch.unique(torch_labels):\n",
    "    temp_true = torch.where(torch_labels == class_, 1, 0)\n",
    "    temp_pred = torch.where(torch_preds == class_, 1, 0)\n",
    "    \n",
    "    tp = torch.where((temp_true == 1) & (temp_pred == 1), 1, 0).sum()\n",
    "    fp = torch.where((temp_true == 0) & (temp_pred == 1), 1, 0).sum()\n",
    "    fn = torch.where((temp_true == 1) & (temp_pred == 0), 1, 0).sum()\n",
    "    \n",
    "    temp_recall = tp / (tp + fn + 1e-6)\n",
    "    temp_precision = tp / (tp + fp + 1e-6)\n",
    "    \n",
    "    precision += temp_precision\n",
    "    recall += temp_recall\n",
    "  \n",
    "  precision /= num_classes\n",
    "  recall /= num_classes\n",
    "  \n",
    "  return recall, precision\n",
    "\n",
    "recall, precision = macro_precision(preds_list, labels_list)\n",
    "print(recall, precision)\n",
    "    "
   ]
  },
  {
   "cell_type": "code",
   "execution_count": null,
   "metadata": {},
   "outputs": [],
   "source": []
  }
 ],
 "metadata": {
  "kernelspec": {
   "display_name": "python39",
   "language": "python",
   "name": "python39"
  },
  "language_info": {
   "codemirror_mode": {
    "name": "ipython",
    "version": 3
   },
   "file_extension": ".py",
   "mimetype": "text/x-python",
   "name": "python",
   "nbconvert_exporter": "python",
   "pygments_lexer": "ipython3",
   "version": "3.9.1"
  },
  "orig_nbformat": 4,
  "vscode": {
   "interpreter": {
    "hash": "45d80257ccf4ae77bb116447a323b4ded5c7d4f4eb3ea993cf039511269910c8"
   }
  }
 },
 "nbformat": 4,
 "nbformat_minor": 2
}
