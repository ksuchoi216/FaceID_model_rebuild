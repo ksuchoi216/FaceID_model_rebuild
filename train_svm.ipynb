{
 "cells": [
  {
   "cell_type": "code",
   "execution_count": 5,
   "metadata": {},
   "outputs": [
    {
     "name": "stdout",
     "output_type": "stream",
     "text": [
      "The autoreload extension is already loaded. To reload it, use:\n",
      "  %reload_ext autoreload\n",
      "isLocalServer is True\n",
      "/notebook/personal/ksuchoi216/FaceID_model_rebuild\n",
      "Fri Oct  7 11:22:35 2022       \n",
      "+-----------------------------------------------------------------------------+\n",
      "| NVIDIA-SMI 470.129.06   Driver Version: 470.129.06   CUDA Version: 11.4     |\n",
      "|-------------------------------+----------------------+----------------------+\n",
      "| GPU  Name        Persistence-M| Bus-Id        Disp.A | Volatile Uncorr. ECC |\n",
      "| Fan  Temp  Perf  Pwr:Usage/Cap|         Memory-Usage | GPU-Util  Compute M. |\n",
      "|                               |                      |               MIG M. |\n",
      "|===============================+======================+======================|\n",
      "|   0  Tesla P100-PCIE...  Off  | 00000000:04:00.0 Off |                    0 |\n",
      "| N/A   33C    P0    33W / 250W |   5208MiB / 16280MiB |      0%      Default |\n",
      "|                               |                      |                  N/A |\n",
      "+-------------------------------+----------------------+----------------------+\n",
      "|   1  Tesla P100-PCIE...  Off  | 00000000:06:00.0 Off |                    0 |\n",
      "| N/A   36C    P0    28W / 250W |      2MiB / 16280MiB |      0%      Default |\n",
      "|                               |                      |                  N/A |\n",
      "+-------------------------------+----------------------+----------------------+\n",
      "|   2  Tesla P100-PCIE...  Off  | 00000000:07:00.0 Off |                    0 |\n",
      "| N/A   32C    P0    26W / 250W |      2MiB / 16280MiB |      0%      Default |\n",
      "|                               |                      |                  N/A |\n",
      "+-------------------------------+----------------------+----------------------+\n",
      "|   3  Tesla P100-PCIE...  Off  | 00000000:08:00.0 Off |                    0 |\n",
      "| N/A   34C    P0    26W / 250W |      2MiB / 16280MiB |      0%      Default |\n",
      "|                               |                      |                  N/A |\n",
      "+-------------------------------+----------------------+----------------------+\n",
      "|   4  Tesla P100-PCIE...  Off  | 00000000:0C:00.0 Off |                    0 |\n",
      "| N/A   35C    P0    26W / 250W |      2MiB / 16280MiB |      0%      Default |\n",
      "|                               |                      |                  N/A |\n",
      "+-------------------------------+----------------------+----------------------+\n",
      "|   5  Tesla P100-PCIE...  Off  | 00000000:0D:00.0 Off |                    0 |\n",
      "| N/A   34C    P0    27W / 250W |      2MiB / 16280MiB |      0%      Default |\n",
      "|                               |                      |                  N/A |\n",
      "+-------------------------------+----------------------+----------------------+\n",
      "|   6  Tesla P100-PCIE...  Off  | 00000000:0E:00.0 Off |                    0 |\n",
      "| N/A   36C    P0    27W / 250W |      2MiB / 16280MiB |      0%      Default |\n",
      "|                               |                      |                  N/A |\n",
      "+-------------------------------+----------------------+----------------------+\n",
      "|   7  Tesla P100-PCIE...  Off  | 00000000:0F:00.0 Off |                    0 |\n",
      "| N/A   35C    P0    27W / 250W |      2MiB / 16280MiB |      0%      Default |\n",
      "|                               |                      |                  N/A |\n",
      "+-------------------------------+----------------------+----------------------+\n",
      "                                                                               \n",
      "+-----------------------------------------------------------------------------+\n",
      "| Processes:                                                                  |\n",
      "|  GPU   GI   CI        PID   Type   Process name                  GPU Memory |\n",
      "|        ID   ID                                                   Usage      |\n",
      "|=============================================================================|\n",
      "+-----------------------------------------------------------------------------+\n"
     ]
    }
   ],
   "source": [
    "isLocalServer = True\n",
    "sys_path_to_be_added = '/notebook/personal/ksuchoi216/FaceID_model_rebuild/'\n",
    "config_path = './configs/config.json'\n",
    "\n",
    "%load_ext autoreload\n",
    "%autoreload 2\n",
    "%matplotlib inline\n",
    "\n",
    "import sys\n",
    "import os\n",
    "\n",
    "def checkLocalServer(isLocalServer, sys_path_to_be_added=None):\n",
    "    print(f'isLocalServer is {isLocalServer}')\n",
    "    if isLocalServer is True:\n",
    "        if sys_path_to_be_added not in sys.path:\n",
    "            sys.path.insert(0, sys_path_to_be_added)\n",
    "            os.chdir(sys_path_to_be_added)\n",
    "\n",
    "checkLocalServer(isLocalServer, sys_path_to_be_added)\n",
    "\n",
    "from utils import Config_Manager\n",
    "cfgm = Config_Manager(config_path)\n",
    "cfg = cfgm.get_cfg()\n",
    "!pwd\n",
    "!nvidia-smi"
   ]
  },
  {
   "cell_type": "code",
   "execution_count": 4,
   "metadata": {},
   "outputs": [
    {
     "name": "stdout",
     "output_type": "stream",
     "text": [
      "loading from ./data/face_data_emb.npy\n",
      "loading from ./data/face_data_label.npy\n",
      "shape: (399, 512) (399,)\n"
     ]
    }
   ],
   "source": [
    "from data_preprocessing import loadNumpy\n",
    "emb_numpy = loadNumpy('./data', 'face_data_emb.npy')\n",
    "label_numpy = loadNumpy('./data', 'face_data_label.npy')\n",
    "\n",
    "print(f'shape: {emb_numpy.shape} {label_numpy.shape}')"
   ]
  },
  {
   "cell_type": "code",
   "execution_count": 6,
   "metadata": {},
   "outputs": [
    {
     "ename": "IndentationError",
     "evalue": "expected an indented block (3694264862.py, line 17)",
     "output_type": "error",
     "traceback": [
      "\u001b[0;36m  Input \u001b[0;32mIn [6]\u001b[0;36m\u001b[0m\n\u001b[0;31m    n_tr = xtr.shape[0]\u001b[0m\n\u001b[0m    ^\u001b[0m\n\u001b[0;31mIndentationError\u001b[0m\u001b[0;31m:\u001b[0m expected an indented block\n"
     ]
    }
   ],
   "source": [
    "from data_preprocessing import loadNumpy\n",
    "\n",
    "from sklearn import datasets, metrics\n",
    "from sklearn.neighbors import KNeighborsClassifier\n",
    "from sklearn.model_selection import StratifiedKFold, cross_val_score, GridSearchCV\n",
    "from sklearn.pipeline import Pipeline, make_pipeline\n",
    "from sklearn.svm import SVC, LinearSVC\n",
    "from sklearn.preprocessing import StandardScaler, Normalizer\n",
    "\n",
    "\n",
    "class build_SVM(object):\n",
    "    def __init__(self, cfg):\n",
    "        \n",
    "    \n",
    "    \n",
    "    #set training data\n",
    "    n_tr = xtr.shape[0]\n",
    "    X_train = xtr.reshape((n_tr,-1)) #flatten the image data\n",
    "    y_train = ytr\n",
    "    print(X_train.shape)\n",
    "    print(y_train.shape)\n",
    "\n",
    "    #k-fold stratified\n",
    "    k_fold=5\n",
    "    skf = StratifiedKFold(n_splits=k_fold,shuffle=True)\n",
    "\n",
    "    #set up the model\n",
    "    pipe = Pipeline([('prepro',Normalizer()),('SVC',SVC())])\n",
    "\n",
    "    parameters = [{'SVC__kernel': ['rbf'], 'SVC__gamma': [1e-1, 1e-2, 1e-3, 1e-4],\n",
    "                        'SVC__C': [0.1, 1,10, 100, 1000]}]\n",
    "\n",
    "    grid = GridSearchCV(pipe,param_grid=parameters,cv=skf,scoring='average_precision',n_jobs=-1,verbose=5)\n",
    "    grid.fit(X_train,y_train)\n",
    "\n",
    "    # print(grid.cv_results_)\n",
    "    # print(grid.best_estimator_)\n",
    "    print(grid.best_params_)\n"
   ]
  }
 ],
 "metadata": {
  "kernelspec": {
   "display_name": "python39",
   "language": "python",
   "name": "python39"
  },
  "language_info": {
   "codemirror_mode": {
    "name": "ipython",
    "version": 3
   },
   "file_extension": ".py",
   "mimetype": "text/x-python",
   "name": "python",
   "nbconvert_exporter": "python",
   "pygments_lexer": "ipython3",
   "version": "3.9.1"
  },
  "orig_nbformat": 4,
  "vscode": {
   "interpreter": {
    "hash": "31f2aee4e71d21fbe5cf8b01ff0e069b9275f58929596ceb00d14d90e3e16cd6"
   }
  }
 },
 "nbformat": 4,
 "nbformat_minor": 2
}
