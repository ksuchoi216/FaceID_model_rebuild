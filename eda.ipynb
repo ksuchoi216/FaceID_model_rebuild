{
 "cells": [
  {
   "cell_type": "code",
   "execution_count": 1,
   "metadata": {},
   "outputs": [
    {
     "name": "stdout",
     "output_type": "stream",
     "text": [
      "Thu Sep 29 13:48:28 2022       \n",
      "+-----------------------------------------------------------------------------+\n",
      "| NVIDIA-SMI 470.129.06   Driver Version: 470.129.06   CUDA Version: 11.4     |\n",
      "|-------------------------------+----------------------+----------------------+\n",
      "| GPU  Name        Persistence-M| Bus-Id        Disp.A | Volatile Uncorr. ECC |\n",
      "| Fan  Temp  Perf  Pwr:Usage/Cap|         Memory-Usage | GPU-Util  Compute M. |\n",
      "|                               |                      |               MIG M. |\n",
      "|===============================+======================+======================|\n",
      "|   0  Tesla P100-PCIE...  Off  | 00000000:04:00.0 Off |                    0 |\n",
      "| N/A   33C    P0    33W / 250W |   2320MiB / 16280MiB |      0%      Default |\n",
      "|                               |                      |                  N/A |\n",
      "+-------------------------------+----------------------+----------------------+\n",
      "|   1  Tesla P100-PCIE...  Off  | 00000000:06:00.0 Off |                    0 |\n",
      "| N/A   35C    P0    28W / 250W |      2MiB / 16280MiB |      0%      Default |\n",
      "|                               |                      |                  N/A |\n",
      "+-------------------------------+----------------------+----------------------+\n",
      "|   2  Tesla P100-PCIE...  Off  | 00000000:07:00.0 Off |                    0 |\n",
      "| N/A   31C    P0    26W / 250W |      2MiB / 16280MiB |      0%      Default |\n",
      "|                               |                      |                  N/A |\n",
      "+-------------------------------+----------------------+----------------------+\n",
      "|   3  Tesla P100-PCIE...  Off  | 00000000:08:00.0 Off |                    0 |\n",
      "| N/A   33C    P0    26W / 250W |      2MiB / 16280MiB |      0%      Default |\n",
      "|                               |                      |                  N/A |\n",
      "+-------------------------------+----------------------+----------------------+\n",
      "|   4  Tesla P100-PCIE...  Off  | 00000000:0C:00.0 Off |                    0 |\n",
      "| N/A   34C    P0    26W / 250W |      2MiB / 16280MiB |      0%      Default |\n",
      "|                               |                      |                  N/A |\n",
      "+-------------------------------+----------------------+----------------------+\n",
      "|   5  Tesla P100-PCIE...  Off  | 00000000:0D:00.0 Off |                    0 |\n",
      "| N/A   33C    P0    27W / 250W |      2MiB / 16280MiB |      0%      Default |\n",
      "|                               |                      |                  N/A |\n",
      "+-------------------------------+----------------------+----------------------+\n",
      "|   6  Tesla P100-PCIE...  Off  | 00000000:0E:00.0 Off |                    0 |\n",
      "| N/A   35C    P0    27W / 250W |      2MiB / 16280MiB |      0%      Default |\n",
      "|                               |                      |                  N/A |\n",
      "+-------------------------------+----------------------+----------------------+\n",
      "|   7  Tesla P100-PCIE...  Off  | 00000000:0F:00.0 Off |                    0 |\n",
      "| N/A   34C    P0    27W / 250W |      2MiB / 16280MiB |      0%      Default |\n",
      "|                               |                      |                  N/A |\n",
      "+-------------------------------+----------------------+----------------------+\n",
      "                                                                               \n",
      "+-----------------------------------------------------------------------------+\n",
      "| Processes:                                                                  |\n",
      "|  GPU   GI   CI        PID   Type   Process name                  GPU Memory |\n",
      "|        ID   ID                                                   Usage      |\n",
      "|=============================================================================|\n",
      "+-----------------------------------------------------------------------------+\n",
      "isLocalServer is True\n",
      "/notebook/personal/ksuchoi216/FaceID_model_rebuild\n"
     ]
    }
   ],
   "source": [
    "!nvidia-smi\n",
    "\n",
    "isLocalServer = True\n",
    "sys_path_to_be_added = '/notebook/personal/ksuchoi216/FaceID_model_rebuild/'\n",
    "config_path = './configs/config.json'\n",
    "\n",
    "%load_ext autoreload\n",
    "%autoreload 2\n",
    "%matplotlib inline\n",
    "\n",
    "import sys\n",
    "import os\n",
    "\n",
    "def checkLocalServer(isLocalServer, sys_path_to_be_added=None):\n",
    "    print(f'isLocalServer is {isLocalServer}')\n",
    "    if isLocalServer is True:\n",
    "        if sys_path_to_be_added not in sys.path:\n",
    "            sys.path.insert(0, sys_path_to_be_added)\n",
    "            os.chdir(sys_path_to_be_added)\n",
    "\n",
    "checkLocalServer(isLocalServer, sys_path_to_be_added)\n",
    "\n",
    "from utils import Config_Manager\n",
    "cfgm = Config_Manager(config_path)\n",
    "cfg = cfgm.get_cfg()\n",
    "!pwd"
   ]
  },
  {
   "cell_type": "code",
   "execution_count": 6,
   "metadata": {},
   "outputs": [
    {
     "name": "stdout",
     "output_type": "stream",
     "text": [
      "loading from ./data/face_data_emb.npy\n",
      "loading from ./data/face_data_emb.npy\n",
      "shape: (399, 1, 512) (399, 1, 512)\n"
     ]
    }
   ],
   "source": [
    "from data_preprocessing import loadNumpy\n",
    "emb_numpy = loadNumpy('./data', 'face_data_emb.npy')\n",
    "label_numpy = loadNumpy('./data', 'face_data_emb.npy')\n",
    "\n",
    "print(f'shape: {emb_numpy.shape} {label_numpy.shape}')"
   ]
  },
  {
   "cell_type": "code",
   "execution_count": 14,
   "metadata": {},
   "outputs": [
    {
     "name": "stdout",
     "output_type": "stream",
     "text": [
      "(512,)\n"
     ]
    }
   ],
   "source": [
    "import numpy as np\n",
    "\n",
    "test = np.random.randn(1, 512)\n",
    "\n",
    "test = np.squeeze(test)\n",
    "\n",
    "print(test.shape)\n"
   ]
  },
  {
   "cell_type": "code",
   "execution_count": null,
   "metadata": {},
   "outputs": [],
   "source": []
  },
  {
   "cell_type": "code",
   "execution_count": null,
   "metadata": {},
   "outputs": [],
   "source": []
  },
  {
   "cell_type": "code",
   "execution_count": null,
   "metadata": {},
   "outputs": [],
   "source": []
  },
  {
   "cell_type": "code",
   "execution_count": null,
   "metadata": {},
   "outputs": [],
   "source": []
  }
 ],
 "metadata": {
  "kernelspec": {
   "display_name": "python3",
   "language": "python",
   "name": "python3"
  },
  "orig_nbformat": 4
 },
 "nbformat": 4,
 "nbformat_minor": 2
}
